{
 "metadata": {
  "language_info": {
   "codemirror_mode": {
    "name": "ipython",
    "version": 3
   },
   "file_extension": ".py",
   "mimetype": "text/x-python",
   "name": "python",
   "nbconvert_exporter": "python",
   "pygments_lexer": "ipython3",
   "version": "3.6.12-final"
  },
  "orig_nbformat": 2,
  "kernelspec": {
   "name": "python3",
   "display_name": "Python 3",
   "language": "python"
  }
 },
 "nbformat": 4,
 "nbformat_minor": 2,
 "cells": [
  {
   "cell_type": "code",
   "execution_count": 9,
   "metadata": {},
   "outputs": [],
   "source": [
    "import mesa \n",
    "import networkx as nx\n",
    "import pandas as pd\n",
    "from mesa.space import ContinuousSpace\n",
    "from mesa.time import BaseScheduler\n",
    "from mesa import Agent, Model\n",
    "\n",
    "import matplotlib.pyplot as plt\n",
    "%matplotlib inline\n",
    "\n",
    "import os\n",
    "path = os.getcwd() "
   ]
  },
  {
   "cell_type": "code",
   "execution_count": 11,
   "metadata": {},
   "outputs": [
    {
     "output_type": "execute_result",
     "data": {
      "text/plain": [
       "   road model_type  km  lat  lon  length      name\n",
       "0    N1     source   1    0    0       4    source\n",
       "1    N1       link   2    1    1       2    link 1\n",
       "2    N1     bridge   3    2    2       5  bridge 1\n",
       "3    N1       link   1    3    3       1    link 2\n",
       "4    N1     bridge   4    4    4       8  bridge 2\n",
       "5    N1       link   4    5    5       4    link 3\n",
       "6    N1     bridge   8    6    6       4  bridge 3\n",
       "7    N1       link   2    7    7       2    link 5\n",
       "8    N1     bridge  10    8    8       2  bridge 4\n",
       "9    N1       link  10    9    9      10    link 5\n",
       "10   N1       sink  20   10   10       3      sink"
      ],
      "text/html": "<div>\n<style scoped>\n    .dataframe tbody tr th:only-of-type {\n        vertical-align: middle;\n    }\n\n    .dataframe tbody tr th {\n        vertical-align: top;\n    }\n\n    .dataframe thead th {\n        text-align: right;\n    }\n</style>\n<table border=\"1\" class=\"dataframe\">\n  <thead>\n    <tr style=\"text-align: right;\">\n      <th></th>\n      <th>road</th>\n      <th>model_type</th>\n      <th>km</th>\n      <th>lat</th>\n      <th>lon</th>\n      <th>length</th>\n      <th>name</th>\n    </tr>\n  </thead>\n  <tbody>\n    <tr>\n      <th>0</th>\n      <td>N1</td>\n      <td>source</td>\n      <td>1</td>\n      <td>0</td>\n      <td>0</td>\n      <td>4</td>\n      <td>source</td>\n    </tr>\n    <tr>\n      <th>1</th>\n      <td>N1</td>\n      <td>link</td>\n      <td>2</td>\n      <td>1</td>\n      <td>1</td>\n      <td>2</td>\n      <td>link 1</td>\n    </tr>\n    <tr>\n      <th>2</th>\n      <td>N1</td>\n      <td>bridge</td>\n      <td>3</td>\n      <td>2</td>\n      <td>2</td>\n      <td>5</td>\n      <td>bridge 1</td>\n    </tr>\n    <tr>\n      <th>3</th>\n      <td>N1</td>\n      <td>link</td>\n      <td>1</td>\n      <td>3</td>\n      <td>3</td>\n      <td>1</td>\n      <td>link 2</td>\n    </tr>\n    <tr>\n      <th>4</th>\n      <td>N1</td>\n      <td>bridge</td>\n      <td>4</td>\n      <td>4</td>\n      <td>4</td>\n      <td>8</td>\n      <td>bridge 2</td>\n    </tr>\n    <tr>\n      <th>5</th>\n      <td>N1</td>\n      <td>link</td>\n      <td>4</td>\n      <td>5</td>\n      <td>5</td>\n      <td>4</td>\n      <td>link 3</td>\n    </tr>\n    <tr>\n      <th>6</th>\n      <td>N1</td>\n      <td>bridge</td>\n      <td>8</td>\n      <td>6</td>\n      <td>6</td>\n      <td>4</td>\n      <td>bridge 3</td>\n    </tr>\n    <tr>\n      <th>7</th>\n      <td>N1</td>\n      <td>link</td>\n      <td>2</td>\n      <td>7</td>\n      <td>7</td>\n      <td>2</td>\n      <td>link 5</td>\n    </tr>\n    <tr>\n      <th>8</th>\n      <td>N1</td>\n      <td>bridge</td>\n      <td>10</td>\n      <td>8</td>\n      <td>8</td>\n      <td>2</td>\n      <td>bridge 4</td>\n    </tr>\n    <tr>\n      <th>9</th>\n      <td>N1</td>\n      <td>link</td>\n      <td>10</td>\n      <td>9</td>\n      <td>9</td>\n      <td>10</td>\n      <td>link 5</td>\n    </tr>\n    <tr>\n      <th>10</th>\n      <td>N1</td>\n      <td>sink</td>\n      <td>20</td>\n      <td>10</td>\n      <td>10</td>\n      <td>3</td>\n      <td>sink</td>\n    </tr>\n  </tbody>\n</table>\n</div>"
     },
     "metadata": {},
     "execution_count": 11
    }
   ],
   "source": [
    "df = pd.read_csv(path+'/data/simpleTransport.csv')\n",
    "G= nx.Graph()"
   ]
  },
  {
   "cell_type": "code",
   "execution_count": null,
   "metadata": {},
   "outputs": [],
   "source": []
  }
 ]
}